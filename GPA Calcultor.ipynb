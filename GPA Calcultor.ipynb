{
 "cells": [
  {
   "cell_type": "code",
   "execution_count": 1,
   "metadata": {},
   "outputs": [
    {
     "data": {
      "application/vnd.jupyter.widget-view+json": {
       "model_id": "b81fa451383e45ceb4a5e6a9c303a339",
       "version_major": 2,
       "version_minor": 0
      },
      "text/plain": [
       "interactive(children=(FloatSlider(value=4.0, description='SubjectA', max=4.0, step=0.01), FloatSlider(value=2.…"
      ]
     },
     "metadata": {},
     "output_type": "display_data"
    },
    {
     "data": {
      "text/plain": [
       "<function __main__.GPA_Calculator(SubjectA=0, SubjectB=0, SubjectC=0, SubjectD=0, SubjectE=0, SubjectF=0, C1=0, C2=0, C3=0, C4=1, C5=0, C6=0)>"
      ]
     },
     "execution_count": 1,
     "metadata": {},
     "output_type": "execute_result"
    }
   ],
   "source": [
    "from ipywidgets import interact,interactive,IntSlider,FloatSlider,interactive_output,HBox\n",
    "from random import randint\n",
    "\n",
    "def GPA_Calculator(SubjectA=0,SubjectB=0,SubjectC=0,SubjectD=0,SubjectE=0,SubjectF=0,C1=0,C2=0,C3=0,C4=1,C5=0,C6=0):\n",
    "    return ((SubjectA*C1)+(SubjectB*C2)+(SubjectC*C3)+(SubjectD*C4)+(SubjectE*C5)+(SubjectF*C6))/(C1+C2+C4+C5+C3+C6)\n",
    "\n",
    "interact(GPA_Calculator,\n",
    "        SubjectA=FloatSlider(min=0,max=4,step=0.01,value=randint(1,4)),\n",
    "        SubjectB=FloatSlider(min=0,max=4,step=0.01,value=randint(1,4)),\n",
    "        SubjectC=FloatSlider(min=0,max=4,step=0.01,value=randint(1,4)),\n",
    "        SubjectD=FloatSlider(min=0,max=4,step=0.01,value=randint(1,4)),\n",
    "        SubjectE=FloatSlider(min=0,max=4,step=0.01,value=randint(1,4)),\n",
    "        SubjectF=FloatSlider(min=0,max=4,step=0.01,value=randint(1,4)),\n",
    "     \n",
    "        C1=FloatSlider(min=0,max=4,step=1,value=3),\n",
    "        C2=FloatSlider(min=0,max=4,step=1,value=3),\n",
    "        C3=FloatSlider(min=0,max=4,step=1,value=3),\n",
    "        C4=FloatSlider(min=0,max=4,step=1,value=3),\n",
    "        C5=FloatSlider(min=0,max=4,step=1,value=3),\n",
    "        C6=FloatSlider(min=0,max=4,step=1,value=3))"
   ]
  },
  {
   "cell_type": "code",
   "execution_count": null,
   "metadata": {},
   "outputs": [],
   "source": []
  },
  {
   "cell_type": "code",
   "execution_count": null,
   "metadata": {},
   "outputs": [],
   "source": []
  }
 ],
 "metadata": {
  "kernelspec": {
   "display_name": "Python 3",
   "language": "python",
   "name": "python3"
  },
  "language_info": {
   "codemirror_mode": {
    "name": "ipython",
    "version": 3
   },
   "file_extension": ".py",
   "mimetype": "text/x-python",
   "name": "python",
   "nbconvert_exporter": "python",
   "pygments_lexer": "ipython3",
   "version": "3.8.5"
  }
 },
 "nbformat": 4,
 "nbformat_minor": 2
}
